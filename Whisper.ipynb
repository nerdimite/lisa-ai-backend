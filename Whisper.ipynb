{
 "cells": [
  {
   "cell_type": "code",
   "execution_count": 1,
   "metadata": {},
   "outputs": [],
   "source": [
    "import torch\n",
    "import whisper"
   ]
  },
  {
   "cell_type": "code",
   "execution_count": 2,
   "metadata": {},
   "outputs": [],
   "source": [
    "model = whisper.load_model(\"medium\")"
   ]
  },
  {
   "cell_type": "code",
   "execution_count": 17,
   "metadata": {},
   "outputs": [
    {
     "name": "stdout",
     "output_type": "stream",
     "text": [
      "Detecting language using up to the first 30 seconds. Use `--language` to specify the language\n",
      "Detected language: English\n",
      "[00:00.000 --> 00:05.520]  Ok, now, this first performance varies widely depending on the language.\n",
      "[00:05.520 --> 00:13.080]  The figure below shows a WER breakdown by languages on the flow dataset using the large\n",
      "[00:13.080 --> 00:14.080]  model.\n",
      "[00:14.080 --> 00:19.880]  WER and PA scores corresponding to the order of the model and datasets can be found in\n",
      "[00:19.880 --> 00:22.720]  Appendix D.\n",
      "[00:22.720 --> 00:27.920]  The following command will transcribe speech in audio files using the medium model.\n",
      "[00:27.920 --> 00:32.200]  The default setting, which selects the small model, works well for transcribing speech\n",
      "[00:32.200 --> 00:34.280]  to transcribe in audio files.\n",
      "[00:34.280 --> 00:39.800]  Containing non-engaged speech, you can specify the language using the language option.\n",
      "[00:39.800 --> 00:44.360]  Adding task translate will translate the speech into English.\n",
      "[00:44.360 --> 00:49.560]  Run the formula to the options.\n",
      "[00:49.560 --> 00:56.560]  So below is an example usage of whisper, detect language and decode functions which provide\n",
      "[00:56.560 --> 00:57.840]  more level access to the model.\n"
     ]
    }
   ],
   "source": [
    "result = model.transcribe(\"Recording.m4a\", verbose=True)"
   ]
  },
  {
   "cell_type": "code",
   "execution_count": 20,
   "metadata": {},
   "outputs": [
    {
     "data": {
      "text/plain": [
       "{'id': 12,\n",
       " 'seek': 5656,\n",
       " 'start': 56.56,\n",
       " 'end': 57.84,\n",
       " 'text': ' more level access to the model.',\n",
       " 'tokens': [50364, 544, 1496, 2105, 281, 264, 2316, 13, 50428],\n",
       " 'temperature': 0.0,\n",
       " 'avg_logprob': -0.6913661479949951,\n",
       " 'compression_ratio': 0.7948717948717948,\n",
       " 'no_speech_prob': 0.005560117308050394}"
      ]
     },
     "execution_count": 20,
     "metadata": {},
     "output_type": "execute_result"
    }
   ],
   "source": [
    "result['segments'][-1]"
   ]
  },
  {
   "cell_type": "code",
   "execution_count": null,
   "metadata": {},
   "outputs": [],
   "source": []
  }
 ],
 "metadata": {
  "kernelspec": {
   "display_name": "Python 3.9.13 ('ai')",
   "language": "python",
   "name": "python3"
  },
  "language_info": {
   "codemirror_mode": {
    "name": "ipython",
    "version": 3
   },
   "file_extension": ".py",
   "mimetype": "text/x-python",
   "name": "python",
   "nbconvert_exporter": "python",
   "pygments_lexer": "ipython3",
   "version": "3.9.13"
  },
  "orig_nbformat": 4,
  "vscode": {
   "interpreter": {
    "hash": "66c34959fd061e0b75fe61b25789565ee0f65e3017c38ac9c89fb2c0e5483aee"
   }
  }
 },
 "nbformat": 4,
 "nbformat_minor": 2
}
